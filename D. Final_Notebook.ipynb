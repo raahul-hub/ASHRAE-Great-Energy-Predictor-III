{
 "cells": [
  {
   "cell_type": "code",
   "execution_count": 1,
   "metadata": {
    "id": "OJAlpxb7uPae"
   },
   "outputs": [],
   "source": [
    "import math\n",
    "import pickle\n",
    "import joblib\n",
    "import numpy as np\n",
    "import pandas as pd\n",
    "from flask import Flask, jsonify, request\n",
    "from sklearn.metrics import mean_squared_error\n",
    "from sklearn.preprocessing import LabelEncoder"
   ]
  },
  {
   "cell_type": "code",
   "execution_count": 2,
   "metadata": {
    "id": "KiSYSnQzKxwU"
   },
   "outputs": [],
   "source": [
    "#Reference for Query Point Formatting\n",
    "\n",
    "#1. Query Point Format - List\n",
    "query_pt_features = ['timestamp','building_id', 'meter', 'primary_use', 'square_feet',\n",
    "        'floor_count', 'air_temperature', 'cloud_coverage', 'dew_temperature',\n",
    "        'precip_depth_1_hr', 'sea_level_pressure', 'wind_direction',\n",
    "        'wind_speed']\n",
    "\n",
    "#2. Building Usage- Category to choose from\n",
    "primary_use_list = ['Retail','Parking','Office','Education','Lodging/residential', 'Entertainment/public assembly',\n",
    "                    'Public services', 'Warehouse/storage','Food sales and service', 'Religious worship','Healthcare', \n",
    "                    'Utility','Other', 'Technology/science','Manufacturing/industrial','Services']"
   ]
  },
  {
   "cell_type": "code",
   "execution_count": 3,
   "metadata": {
    "id": "n-GW3Wr_J_D_"
   },
   "outputs": [],
   "source": [
    "def final(query_pt:\"Input Query Point in list format\",\n",
    "          LabelEncoder_dict:\"Pre-trained Label Encoders for categorical features\", \n",
    "          model:\"Pretrained Regression Model\", \n",
    "          y:\"Ground Truth\"=None ) -> \"It returns the Energy Prediction\":\n",
    "\n",
    "  '''\n",
    "      1.This function accepts the query points in a list format, performs all the required \n",
    "      data cleaning, preprocessing and featurization steps to make it compatible with \n",
    "      the model and predicts the energy usage. \n",
    "      2. This also compute error if the ground thuth i.e. y is provided.\n",
    "\n",
    "      3. Query Point format is as below:\n",
    "\n",
    "      ['timestamp','building_id', 'meter', 'primary_use', 'square_feet', 'floor_count', \n",
    "       'air_temperature', 'cloud_coverage', 'dew_temperature', 'precip_depth_1_hr', \n",
    "       'sea_level_pressure', 'wind_direction', 'wind_speed']\n",
    "  '''\n",
    "\n",
    "  # 1. Preparing DataFrame from query point.\n",
    "  query_pt_features = ['timestamp','building_id', 'meter', 'primary_use', 'square_feet',\n",
    "                       'floor_count', 'air_temperature', 'cloud_coverage', 'dew_temperature',\n",
    "                       'precip_depth_1_hr', 'sea_level_pressure', 'wind_direction',\n",
    "                       'wind_speed']  \n",
    "  query_df = pd.DataFrame(query_pt).T\n",
    "  query_df.columns = query_pt_features\n",
    "\n",
    "  # 2. Replacing floor_count feature with floor_info\n",
    "  query_df.floor_count.fillna(0, inplace=True)\n",
    "  query_df['floor_count'] = query_df.floor_count.apply(lambda x: 1 if x!=0 else 0)\n",
    "  query_df.rename(columns={\"floor_count\":\"floor_info\"}, inplace=True)\n",
    "\n",
    "  # 3. Converting Timestamp dataformat to timestamp for feature extractions\n",
    "  query_df['timestamp'] = pd.to_datetime(query_df.timestamp)\n",
    "\n",
    "  query_df['year'] = query_df['timestamp'].dt.year\n",
    "  query_df['month'] = query_df['timestamp'].dt.month\n",
    "  query_df['day_of_Week'] = query_df['timestamp'].dt.dayofweek\n",
    "  query_df['day_name'] = query_df['timestamp'].dt.day_name()\n",
    "  query_df['hour'] = query_df['timestamp'].dt.hour\n",
    "\n",
    "  # 4. Ensure Rest of the futures are Numeric \n",
    "  query_df = query_df._convert(numeric=True)\n",
    "\n",
    "  # 5. Adding Season Feature \n",
    "  seasons = {(1, 12, 2): 1, (3, 4, 5): 2, (6, 7, 8): 3, (9, 10, 11): 4}\n",
    "  def season(month):\n",
    "      for month_table in seasons.keys():\n",
    "          if month in list(month_table):\n",
    "              return seasons[month_table] \n",
    "  query_df['season'] = query_df.month.apply(season)\n",
    "\n",
    "  # 6. Adding New Feature - Relative Humidity:\n",
    "  query_df['RH'] = np.round((0.608 * np.exp(float((17.27*query_df.dew_temperature)/(query_df.dew_temperature+237.3)), dtype=float) /\\\n",
    "                            0.608 * np.exp(float((17.27*query_df.air_temperature)/(query_df.air_temperature+237.3)), dtype=float))*100,2)\n",
    "\n",
    "  # 7. Adding New Feature - Cloud Base\n",
    "  query_df['Cloud_base'] = (((((query_df.air_temperature*1.8)+32) - ((query_df.dew_temperature*1.8)+32))/4.4)*1000)*0.3048\n",
    "\n",
    "  # 8. Adding New Feature - Windchill Index (WCI):\n",
    "  query_df['WCI'] = np.round(float((13.12 + 0.6215 * query_df.air_temperature - 11.37*((query_df.wind_speed*2.235)**0.16) \\\n",
    "                    + 0.3965* query_df.air_temperature * ((query_df.wind_speed*2.235)**0.16))),2)\n",
    "\n",
    "  # 9. Adding New Feature - DAY/NIGHT Feature:\n",
    "  day_hours = [i for i in range(6,19)]\n",
    "  query_df['D/N'] = query_df.hour.apply(lambda x: 'Day' if x in day_hours else 'Night')\n",
    "\n",
    "  # 10. Discarding Unwanted Features\n",
    "  query_df = query_df.drop(['timestamp', 'dew_temperature', 'year'],axis=1)\n",
    "\n",
    "  # 11. Encoding Categorical Data\n",
    "  #with open('/content/drive/MyDrive/Case Study 01/Data/Label Encoder/LabelEncoder.bin', 'rb') as f:\n",
    "      #LabelEncoder_dict = pickle.load(f)\n",
    "  DN_encoder, day_name_encoder, primary_use_encoder = LabelEncoder_dict['DN_encoder'], LabelEncoder_dict['day_name_encoder'], LabelEncoder_dict['primary_use_encoder']\n",
    "\n",
    "  categorical_columns = query_df.select_dtypes(include=['category', 'object']).columns.tolist()\n",
    "  encoders = [primary_use_encoder, day_name_encoder, DN_encoder]\n",
    "\n",
    "  for i in range(len(categorical_columns)):\n",
    "    feature = categorical_columns[i]\n",
    "    encoder = encoders[i]\n",
    "    query_df[feature]= encoder.transform(np.array(query_df[feature]).reshape(1,))\n",
    "\n",
    "  # 12. Predictions\n",
    "  query_pred = np.round(np.expm1(model.predict(query_df))[0],2)\n",
    "\n",
    "  # 13. Computing error if actual value of y is given\n",
    "  if y:\n",
    "    RMSE = RMSE = np.round((np.sqrt(np.square(y - query_pred))/1),2)\n",
    "  else:\n",
    "    RMSE = np.nan\n",
    "\n",
    "  return query_pred, RMSE"
   ]
  },
  {
   "cell_type": "code",
   "execution_count": 4,
   "metadata": {
    "id": "Er19Tp6XKIV8"
   },
   "outputs": [],
   "source": [
    "#Sample Query\n",
    "query_pt = ['2017-07-01 00:00:00', 35.0,\t0.0, 'Lodging/residential',\t51830.0,\t3,\t18.796875, 4.0, 11.703125,\t0.918457,\t1021.5,\t110.0,\t4.599609]\n",
    "\n",
    "#Label Encoder\n",
    "with open('LabelEncoder.bin', 'rb') as f:\n",
    "  LabelEncoder_dict = pickle.load(f)\n",
    "\n",
    "# loading the model from disk\n",
    "LGBM_reg_best = joblib.load('LGBM_reg_Rev02_Aug15.sav')"
   ]
  },
  {
   "cell_type": "code",
   "execution_count": 9,
   "metadata": {},
   "outputs": [],
   "source": [
    "#Sample Query\n",
    "query_pt = ['2017-07-01 00:00:00', 35.0,\t0.0, 'Lodging/residential',\t51830.0,\t3,\t18.796875, 4.0, 11.703125,\t0.918457,\t1021.5,\t110.0,\t4.599609]\n",
    "\n",
    "#Label Encoder\n",
    "with open('LabelEncoder.bin', 'rb') as f:\n",
    "  LabelEncoder_dict = pickle.load(f)\n",
    "\n",
    "# loading the model from disk\n",
    "LGBM_reg_best = joblib.load('LGBM_reg_Rev02_Aug15.sav')"
   ]
  },
  {
   "cell_type": "code",
   "execution_count": 10,
   "metadata": {},
   "outputs": [
    {
     "data": {
      "text/plain": [
       "{'primary_use_encoder': LabelEncoder(),\n",
       " 'day_name_encoder': LabelEncoder(),\n",
       " 'DN_encoder': LabelEncoder()}"
      ]
     },
     "execution_count": 10,
     "metadata": {},
     "output_type": "execute_result"
    }
   ],
   "source": [
    "LabelEncoder_dict"
   ]
  },
  {
   "cell_type": "code",
   "execution_count": 11,
   "metadata": {
    "colab": {
     "base_uri": "https://localhost:8080/"
    },
    "executionInfo": {
     "elapsed": 9,
     "status": "ok",
     "timestamp": 1643041598020,
     "user": {
      "displayName": "aaks dab",
      "photoUrl": "https://lh3.googleusercontent.com/a-/AOh14Ghl4m0ptaCuFbtu1hx_ZN634LDh2D3aUTCYy3gDmQ=s64",
      "userId": "15415274412561598053"
     },
     "user_tz": -330
    },
    "id": "G7_Bu8kZKIS3",
    "outputId": "16fc9964-5103-44d4-ce23-fef558eaca01"
   },
   "outputs": [
    {
     "name": "stdout",
     "output_type": "stream",
     "text": [
      " Predicted Energy Usage: 29.29KW, \n",
      " Error : nan\n"
     ]
    }
   ],
   "source": [
    "query_pt = ['2017-07-01 00:00:00', 135.0,\t0.0, 'Lodging/residential',\t51830.0,\t3,\t18.796875, 4.0, 14.703125,\t0.918457,\t1021.5,\t110.0,\t5.599609]\n",
    "query_pred, RMSE = final(query_pt, LabelEncoder_dict, LGBM_reg_best, y=None )\n",
    "print(f' Predicted Energy Usage: {query_pred}KW, \\n Error : {RMSE}')"
   ]
  },
  {
   "cell_type": "markdown",
   "metadata": {
    "id": "C7RcEEjr-fYY"
   },
   "source": [
    "` 1. Please provide query in a format as below:`\n",
    "\n",
    "      ['timestamp','building_id', 'meter', 'primary_use', 'square_feet', 'floor_count', \n",
    "       'air_temperature', 'cloud_coverage', 'dew_temperature', 'precip_depth_1_hr', \n",
    "       'sea_level_pressure', 'wind_direction', 'wind_speed']\n"
   ]
  },
  {
   "cell_type": "code",
   "execution_count": 12,
   "metadata": {
    "id": "44EbI1cS-qkQ"
   },
   "outputs": [],
   "source": [
    "query_pt = ['2017-07-01 21:40:05', 153.0,\t1.0, 'Public services',\t51830.0,\t3,\t18.796875, 4.0, 14.703125,\t0.918457,\t1021.5,\t110.0,\t5.599609]"
   ]
  },
  {
   "cell_type": "code",
   "execution_count": 13,
   "metadata": {
    "colab": {
     "base_uri": "https://localhost:8080/"
    },
    "executionInfo": {
     "elapsed": 460,
     "status": "ok",
     "timestamp": 1643044479038,
     "user": {
      "displayName": "aaks dab",
      "photoUrl": "https://lh3.googleusercontent.com/a-/AOh14Ghl4m0ptaCuFbtu1hx_ZN634LDh2D3aUTCYy3gDmQ=s64",
      "userId": "15415274412561598053"
     },
     "user_tz": -330
    },
    "id": "1dAk3uosKIY7",
    "outputId": "dcaa1c8e-8556-4087-9f8d-470724af3fa8"
   },
   "outputs": [
    {
     "name": "stdout",
     "output_type": "stream",
     "text": [
      " Predicted Energy Usage: 87.44KW, \n",
      " Error : nan\n"
     ]
    }
   ],
   "source": [
    "query_pred, RMSE = final(query_pt, LabelEncoder_dict, LGBM_reg_best, y=None )\n",
    "print(f' Predicted Energy Usage: {query_pred}KW, \\n Error : {RMSE}')"
   ]
  },
  {
   "cell_type": "code",
   "execution_count": null,
   "metadata": {
    "id": "mIdTRHj-A46t"
   },
   "outputs": [],
   "source": []
  },
  {
   "cell_type": "code",
   "execution_count": null,
   "metadata": {},
   "outputs": [],
   "source": []
  }
 ],
 "metadata": {
  "accelerator": "TPU",
  "colab": {
   "authorship_tag": "ABX9TyPKLouWaPdVzQfLRWj2ROWj",
   "collapsed_sections": [],
   "machine_shape": "hm",
   "mount_file_id": "10BMIUqS-g81DR0C2j18o2vwcf2DOvHqB",
   "name": "D. Final_Notebook.ipynb",
   "provenance": []
  },
  "kernelspec": {
   "display_name": "Python 3",
   "language": "python",
   "name": "python3"
  },
  "language_info": {
   "codemirror_mode": {
    "name": "ipython",
    "version": 3
   },
   "file_extension": ".py",
   "mimetype": "text/x-python",
   "name": "python",
   "nbconvert_exporter": "python",
   "pygments_lexer": "ipython3",
   "version": "3.7.0"
  }
 },
 "nbformat": 4,
 "nbformat_minor": 1
}
